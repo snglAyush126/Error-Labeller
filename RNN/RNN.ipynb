{
  "nbformat": 4,
  "nbformat_minor": 0,
  "metadata": {
    "colab": {
      "provenance": []
    },
    "kernelspec": {
      "name": "python3",
      "display_name": "Python 3"
    },
    "language_info": {
      "name": "python"
    }
  },
  "cells": [
    {
      "cell_type": "code",
      "execution_count": null,
      "metadata": {
        "id": "72nLJHtwr7oj"
      },
      "outputs": [],
      "source": [
        "import tensorflow as tf"
      ]
    },
    {
      "cell_type": "code",
      "source": [
        "from tensorflow import keras"
      ],
      "metadata": {
        "id": "jn7qJVEhr-WE"
      },
      "execution_count": null,
      "outputs": []
    },
    {
      "cell_type": "code",
      "source": [
        "import pandas as pd\n",
        "import string\n",
        "import re"
      ],
      "metadata": {
        "id": "7NFvcZstsLPO"
      },
      "execution_count": null,
      "outputs": []
    },
    {
      "cell_type": "code",
      "source": [
        "import nltk"
      ],
      "metadata": {
        "id": "uDjEk7sUscEU"
      },
      "execution_count": null,
      "outputs": []
    },
    {
      "cell_type": "code",
      "source": [
        "from nltk.stem.porter import PorterStemmer\n",
        "from nltk.stem.lancaster import LancasterStemmer\n",
        "from nltk.stem import WordNetLemmatizer\n",
        "from nltk.stem import SnowballStemmer\n",
        "from nltk.corpus import stopwords"
      ],
      "metadata": {
        "id": "idCqjFDNsd01"
      },
      "execution_count": null,
      "outputs": []
    },
    {
      "cell_type": "code",
      "source": [
        "nltk.download('stopwords' , 'punkt')"
      ],
      "metadata": {
        "colab": {
          "base_uri": "https://localhost:8080/"
        },
        "id": "UnpTxtFwshR-",
        "outputId": "2764026d-04ac-4d17-cec2-9cc30f4fa46d"
      },
      "execution_count": null,
      "outputs": [
        {
          "output_type": "stream",
          "name": "stderr",
          "text": [
            "[nltk_data] Downloading package stopwords to punkt...\n",
            "[nltk_data]   Package stopwords is already up-to-date!\n"
          ]
        },
        {
          "output_type": "execute_result",
          "data": {
            "text/plain": [
              "True"
            ]
          },
          "metadata": {},
          "execution_count": 6
        }
      ]
    },
    {
      "cell_type": "code",
      "source": [
        "def text_preprocess(messages):\n",
        "  ps = PorterStemmer()\n",
        "  lemmatizer = WordNetLemmatizer()\n",
        "  corpus=[]\n",
        "  for i in range(0 , len(messages)):\n",
        "    review = re.sub('[^a-zA-Z]' , ' ' , messages[i])\n",
        "    review = review.lower()\n",
        "    review = review.split()\n",
        "    review = [lemmatizer.lemmatize(word) for word in review if not word in stopwords.words('english')]\n",
        "    review = ' '.join(review);\n",
        "    corpus.append(review)\n",
        "  return corpus"
      ],
      "metadata": {
        "id": "GkFMqF2Gs2qg"
      },
      "execution_count": null,
      "outputs": []
    },
    {
      "cell_type": "code",
      "source": [
        "import itertools\n",
        "import numpy as np\n",
        "np.random.seed(1337)\n",
        "from gensim.models import Word2Vec\n",
        "from keras.models import Model\n",
        "from keras.layers import Dense, Dropout, LSTM, Input, BatchNormalization, Bidirectional\n",
        "from keras.utils import np_utils\n",
        "from keras.optimizers import RMSprop\n",
        "from sklearn.utils import shuffle"
      ],
      "metadata": {
        "id": "BluEiOfyuEP8"
      },
      "execution_count": null,
      "outputs": []
    },
    {
      "cell_type": "code",
      "source": [
        "\n",
        "min_word_frequency_word2vec = 3\n",
        "embed_size_word2vec = 100\n",
        "context_window_word2vec = 5\n",
        "\n",
        "\n",
        "max_sentence_len = 50\n",
        "min_sentence_length = 2\n",
        "batch_size = 32"
      ],
      "metadata": {
        "id": "5R0xKO0ruJ3X"
      },
      "execution_count": null,
      "outputs": []
    },
    {
      "cell_type": "code",
      "source": [
        "from google.colab import files\n",
        "uploaded = files.upload()"
      ],
      "metadata": {
        "colab": {
          "base_uri": "https://localhost:8080/",
          "height": 73
        },
        "id": "8UiOmGdauYF6",
        "outputId": "f1c4b96d-0a38-4a90-e28b-a253692e3364"
      },
      "execution_count": null,
      "outputs": [
        {
          "output_type": "display_data",
          "data": {
            "text/plain": [
              "<IPython.core.display.HTML object>"
            ],
            "text/html": [
              "\n",
              "     <input type=\"file\" id=\"files-7306db38-a99f-43bd-b014-211411b5333c\" name=\"files[]\" multiple disabled\n",
              "        style=\"border:none\" />\n",
              "     <output id=\"result-7306db38-a99f-43bd-b014-211411b5333c\">\n",
              "      Upload widget is only available when the cell has been executed in the\n",
              "      current browser session. Please rerun this cell to enable.\n",
              "      </output>\n",
              "      <script>// Copyright 2017 Google LLC\n",
              "//\n",
              "// Licensed under the Apache License, Version 2.0 (the \"License\");\n",
              "// you may not use this file except in compliance with the License.\n",
              "// You may obtain a copy of the License at\n",
              "//\n",
              "//      http://www.apache.org/licenses/LICENSE-2.0\n",
              "//\n",
              "// Unless required by applicable law or agreed to in writing, software\n",
              "// distributed under the License is distributed on an \"AS IS\" BASIS,\n",
              "// WITHOUT WARRANTIES OR CONDITIONS OF ANY KIND, either express or implied.\n",
              "// See the License for the specific language governing permissions and\n",
              "// limitations under the License.\n",
              "\n",
              "/**\n",
              " * @fileoverview Helpers for google.colab Python module.\n",
              " */\n",
              "(function(scope) {\n",
              "function span(text, styleAttributes = {}) {\n",
              "  const element = document.createElement('span');\n",
              "  element.textContent = text;\n",
              "  for (const key of Object.keys(styleAttributes)) {\n",
              "    element.style[key] = styleAttributes[key];\n",
              "  }\n",
              "  return element;\n",
              "}\n",
              "\n",
              "// Max number of bytes which will be uploaded at a time.\n",
              "const MAX_PAYLOAD_SIZE = 100 * 1024;\n",
              "\n",
              "function _uploadFiles(inputId, outputId) {\n",
              "  const steps = uploadFilesStep(inputId, outputId);\n",
              "  const outputElement = document.getElementById(outputId);\n",
              "  // Cache steps on the outputElement to make it available for the next call\n",
              "  // to uploadFilesContinue from Python.\n",
              "  outputElement.steps = steps;\n",
              "\n",
              "  return _uploadFilesContinue(outputId);\n",
              "}\n",
              "\n",
              "// This is roughly an async generator (not supported in the browser yet),\n",
              "// where there are multiple asynchronous steps and the Python side is going\n",
              "// to poll for completion of each step.\n",
              "// This uses a Promise to block the python side on completion of each step,\n",
              "// then passes the result of the previous step as the input to the next step.\n",
              "function _uploadFilesContinue(outputId) {\n",
              "  const outputElement = document.getElementById(outputId);\n",
              "  const steps = outputElement.steps;\n",
              "\n",
              "  const next = steps.next(outputElement.lastPromiseValue);\n",
              "  return Promise.resolve(next.value.promise).then((value) => {\n",
              "    // Cache the last promise value to make it available to the next\n",
              "    // step of the generator.\n",
              "    outputElement.lastPromiseValue = value;\n",
              "    return next.value.response;\n",
              "  });\n",
              "}\n",
              "\n",
              "/**\n",
              " * Generator function which is called between each async step of the upload\n",
              " * process.\n",
              " * @param {string} inputId Element ID of the input file picker element.\n",
              " * @param {string} outputId Element ID of the output display.\n",
              " * @return {!Iterable<!Object>} Iterable of next steps.\n",
              " */\n",
              "function* uploadFilesStep(inputId, outputId) {\n",
              "  const inputElement = document.getElementById(inputId);\n",
              "  inputElement.disabled = false;\n",
              "\n",
              "  const outputElement = document.getElementById(outputId);\n",
              "  outputElement.innerHTML = '';\n",
              "\n",
              "  const pickedPromise = new Promise((resolve) => {\n",
              "    inputElement.addEventListener('change', (e) => {\n",
              "      resolve(e.target.files);\n",
              "    });\n",
              "  });\n",
              "\n",
              "  const cancel = document.createElement('button');\n",
              "  inputElement.parentElement.appendChild(cancel);\n",
              "  cancel.textContent = 'Cancel upload';\n",
              "  const cancelPromise = new Promise((resolve) => {\n",
              "    cancel.onclick = () => {\n",
              "      resolve(null);\n",
              "    };\n",
              "  });\n",
              "\n",
              "  // Wait for the user to pick the files.\n",
              "  const files = yield {\n",
              "    promise: Promise.race([pickedPromise, cancelPromise]),\n",
              "    response: {\n",
              "      action: 'starting',\n",
              "    }\n",
              "  };\n",
              "\n",
              "  cancel.remove();\n",
              "\n",
              "  // Disable the input element since further picks are not allowed.\n",
              "  inputElement.disabled = true;\n",
              "\n",
              "  if (!files) {\n",
              "    return {\n",
              "      response: {\n",
              "        action: 'complete',\n",
              "      }\n",
              "    };\n",
              "  }\n",
              "\n",
              "  for (const file of files) {\n",
              "    const li = document.createElement('li');\n",
              "    li.append(span(file.name, {fontWeight: 'bold'}));\n",
              "    li.append(span(\n",
              "        `(${file.type || 'n/a'}) - ${file.size} bytes, ` +\n",
              "        `last modified: ${\n",
              "            file.lastModifiedDate ? file.lastModifiedDate.toLocaleDateString() :\n",
              "                                    'n/a'} - `));\n",
              "    const percent = span('0% done');\n",
              "    li.appendChild(percent);\n",
              "\n",
              "    outputElement.appendChild(li);\n",
              "\n",
              "    const fileDataPromise = new Promise((resolve) => {\n",
              "      const reader = new FileReader();\n",
              "      reader.onload = (e) => {\n",
              "        resolve(e.target.result);\n",
              "      };\n",
              "      reader.readAsArrayBuffer(file);\n",
              "    });\n",
              "    // Wait for the data to be ready.\n",
              "    let fileData = yield {\n",
              "      promise: fileDataPromise,\n",
              "      response: {\n",
              "        action: 'continue',\n",
              "      }\n",
              "    };\n",
              "\n",
              "    // Use a chunked sending to avoid message size limits. See b/62115660.\n",
              "    let position = 0;\n",
              "    do {\n",
              "      const length = Math.min(fileData.byteLength - position, MAX_PAYLOAD_SIZE);\n",
              "      const chunk = new Uint8Array(fileData, position, length);\n",
              "      position += length;\n",
              "\n",
              "      const base64 = btoa(String.fromCharCode.apply(null, chunk));\n",
              "      yield {\n",
              "        response: {\n",
              "          action: 'append',\n",
              "          file: file.name,\n",
              "          data: base64,\n",
              "        },\n",
              "      };\n",
              "\n",
              "      let percentDone = fileData.byteLength === 0 ?\n",
              "          100 :\n",
              "          Math.round((position / fileData.byteLength) * 100);\n",
              "      percent.textContent = `${percentDone}% done`;\n",
              "\n",
              "    } while (position < fileData.byteLength);\n",
              "  }\n",
              "\n",
              "  // All done.\n",
              "  yield {\n",
              "    response: {\n",
              "      action: 'complete',\n",
              "    }\n",
              "  };\n",
              "}\n",
              "\n",
              "scope.google = scope.google || {};\n",
              "scope.google.colab = scope.google.colab || {};\n",
              "scope.google.colab._files = {\n",
              "  _uploadFiles,\n",
              "  _uploadFilesContinue,\n",
              "};\n",
              "})(self);\n",
              "</script> "
            ]
          },
          "metadata": {}
        },
        {
          "output_type": "stream",
          "name": "stdout",
          "text": [
            "Saving problem_dataset.csv to problem_dataset (2).csv\n"
          ]
        }
      ]
    },
    {
      "cell_type": "code",
      "source": [
        "import io"
      ],
      "metadata": {
        "id": "kSD2QAOKugnl"
      },
      "execution_count": null,
      "outputs": []
    },
    {
      "cell_type": "code",
      "source": [
        "data = pd.read_csv(io.BytesIO(uploaded['problem_dataset.csv']))\n",
        "data.head()"
      ],
      "metadata": {
        "colab": {
          "base_uri": "https://localhost:8080/",
          "height": 206
        },
        "id": "tpvdbPUduqnV",
        "outputId": "b8991cf5-1c6b-423b-f2f7-8540d9ce4e24"
      },
      "execution_count": null,
      "outputs": [
        {
          "output_type": "execute_result",
          "data": {
            "text/plain": [
              "   ID                                         stacktrace  \\\n",
              "0   0  [{'exception': 'java.lang.ArrayIndexOutOfBound...   \n",
              "1   1  [{'exception': 'java.io.UnsupportedEncodingExc...   \n",
              "2   2  [{'exception': 'java.io.IOException', 'message...   \n",
              "3   3  [{'exception': 'java.lang.NullPointerException...   \n",
              "4   4  [{'exception': 'javax.swing.text.StateInvarian...   \n",
              "\n",
              "                    original_label  \n",
              "0   arrayindexoutofboundsexception  \n",
              "1     unsupportedencodingexception  \n",
              "2                      ioexception  \n",
              "3             nullpointerexception  \n",
              "4              stateinvarianterror  "
            ],
            "text/html": [
              "\n",
              "  <div id=\"df-c0fde78c-fdbe-4aff-ba00-a61326402ff1\">\n",
              "    <div class=\"colab-df-container\">\n",
              "      <div>\n",
              "<style scoped>\n",
              "    .dataframe tbody tr th:only-of-type {\n",
              "        vertical-align: middle;\n",
              "    }\n",
              "\n",
              "    .dataframe tbody tr th {\n",
              "        vertical-align: top;\n",
              "    }\n",
              "\n",
              "    .dataframe thead th {\n",
              "        text-align: right;\n",
              "    }\n",
              "</style>\n",
              "<table border=\"1\" class=\"dataframe\">\n",
              "  <thead>\n",
              "    <tr style=\"text-align: right;\">\n",
              "      <th></th>\n",
              "      <th>ID</th>\n",
              "      <th>stacktrace</th>\n",
              "      <th>original_label</th>\n",
              "    </tr>\n",
              "  </thead>\n",
              "  <tbody>\n",
              "    <tr>\n",
              "      <th>0</th>\n",
              "      <td>0</td>\n",
              "      <td>[{'exception': 'java.lang.ArrayIndexOutOfBound...</td>\n",
              "      <td>arrayindexoutofboundsexception</td>\n",
              "    </tr>\n",
              "    <tr>\n",
              "      <th>1</th>\n",
              "      <td>1</td>\n",
              "      <td>[{'exception': 'java.io.UnsupportedEncodingExc...</td>\n",
              "      <td>unsupportedencodingexception</td>\n",
              "    </tr>\n",
              "    <tr>\n",
              "      <th>2</th>\n",
              "      <td>2</td>\n",
              "      <td>[{'exception': 'java.io.IOException', 'message...</td>\n",
              "      <td>ioexception</td>\n",
              "    </tr>\n",
              "    <tr>\n",
              "      <th>3</th>\n",
              "      <td>3</td>\n",
              "      <td>[{'exception': 'java.lang.NullPointerException...</td>\n",
              "      <td>nullpointerexception</td>\n",
              "    </tr>\n",
              "    <tr>\n",
              "      <th>4</th>\n",
              "      <td>4</td>\n",
              "      <td>[{'exception': 'javax.swing.text.StateInvarian...</td>\n",
              "      <td>stateinvarianterror</td>\n",
              "    </tr>\n",
              "  </tbody>\n",
              "</table>\n",
              "</div>\n",
              "      <button class=\"colab-df-convert\" onclick=\"convertToInteractive('df-c0fde78c-fdbe-4aff-ba00-a61326402ff1')\"\n",
              "              title=\"Convert this dataframe to an interactive table.\"\n",
              "              style=\"display:none;\">\n",
              "        \n",
              "  <svg xmlns=\"http://www.w3.org/2000/svg\" height=\"24px\"viewBox=\"0 0 24 24\"\n",
              "       width=\"24px\">\n",
              "    <path d=\"M0 0h24v24H0V0z\" fill=\"none\"/>\n",
              "    <path d=\"M18.56 5.44l.94 2.06.94-2.06 2.06-.94-2.06-.94-.94-2.06-.94 2.06-2.06.94zm-11 1L8.5 8.5l.94-2.06 2.06-.94-2.06-.94L8.5 2.5l-.94 2.06-2.06.94zm10 10l.94 2.06.94-2.06 2.06-.94-2.06-.94-.94-2.06-.94 2.06-2.06.94z\"/><path d=\"M17.41 7.96l-1.37-1.37c-.4-.4-.92-.59-1.43-.59-.52 0-1.04.2-1.43.59L10.3 9.45l-7.72 7.72c-.78.78-.78 2.05 0 2.83L4 21.41c.39.39.9.59 1.41.59.51 0 1.02-.2 1.41-.59l7.78-7.78 2.81-2.81c.8-.78.8-2.07 0-2.86zM5.41 20L4 18.59l7.72-7.72 1.47 1.35L5.41 20z\"/>\n",
              "  </svg>\n",
              "      </button>\n",
              "      \n",
              "  <style>\n",
              "    .colab-df-container {\n",
              "      display:flex;\n",
              "      flex-wrap:wrap;\n",
              "      gap: 12px;\n",
              "    }\n",
              "\n",
              "    .colab-df-convert {\n",
              "      background-color: #E8F0FE;\n",
              "      border: none;\n",
              "      border-radius: 50%;\n",
              "      cursor: pointer;\n",
              "      display: none;\n",
              "      fill: #1967D2;\n",
              "      height: 32px;\n",
              "      padding: 0 0 0 0;\n",
              "      width: 32px;\n",
              "    }\n",
              "\n",
              "    .colab-df-convert:hover {\n",
              "      background-color: #E2EBFA;\n",
              "      box-shadow: 0px 1px 2px rgba(60, 64, 67, 0.3), 0px 1px 3px 1px rgba(60, 64, 67, 0.15);\n",
              "      fill: #174EA6;\n",
              "    }\n",
              "\n",
              "    [theme=dark] .colab-df-convert {\n",
              "      background-color: #3B4455;\n",
              "      fill: #D2E3FC;\n",
              "    }\n",
              "\n",
              "    [theme=dark] .colab-df-convert:hover {\n",
              "      background-color: #434B5C;\n",
              "      box-shadow: 0px 1px 3px 1px rgba(0, 0, 0, 0.15);\n",
              "      filter: drop-shadow(0px 1px 2px rgba(0, 0, 0, 0.3));\n",
              "      fill: #FFFFFF;\n",
              "    }\n",
              "  </style>\n",
              "\n",
              "      <script>\n",
              "        const buttonEl =\n",
              "          document.querySelector('#df-c0fde78c-fdbe-4aff-ba00-a61326402ff1 button.colab-df-convert');\n",
              "        buttonEl.style.display =\n",
              "          google.colab.kernel.accessAllowed ? 'block' : 'none';\n",
              "\n",
              "        async function convertToInteractive(key) {\n",
              "          const element = document.querySelector('#df-c0fde78c-fdbe-4aff-ba00-a61326402ff1');\n",
              "          const dataTable =\n",
              "            await google.colab.kernel.invokeFunction('convertToInteractive',\n",
              "                                                     [key], {});\n",
              "          if (!dataTable) return;\n",
              "\n",
              "          const docLinkHtml = 'Like what you see? Visit the ' +\n",
              "            '<a target=\"_blank\" href=https://colab.research.google.com/notebooks/data_table.ipynb>data table notebook</a>'\n",
              "            + ' to learn more about interactive tables.';\n",
              "          element.innerHTML = '';\n",
              "          dataTable['output_type'] = 'display_data';\n",
              "          await google.colab.output.renderOutput(dataTable, element);\n",
              "          const docLink = document.createElement('div');\n",
              "          docLink.innerHTML = docLinkHtml;\n",
              "          element.appendChild(docLink);\n",
              "        }\n",
              "      </script>\n",
              "    </div>\n",
              "  </div>\n",
              "  "
            ]
          },
          "metadata": {},
          "execution_count": 12
        }
      ]
    },
    {
      "cell_type": "code",
      "source": [
        "import nltk\n",
        "nltk.download('stopwords')"
      ],
      "metadata": {
        "colab": {
          "base_uri": "https://localhost:8080/"
        },
        "id": "a9C0xXpfy8XA",
        "outputId": "7a3a0643-74be-41f8-86ee-0ace0f1c6ef5"
      },
      "execution_count": null,
      "outputs": [
        {
          "output_type": "stream",
          "name": "stderr",
          "text": [
            "[nltk_data] Downloading package stopwords to /root/nltk_data...\n",
            "[nltk_data]   Package stopwords is already up-to-date!\n"
          ]
        },
        {
          "output_type": "execute_result",
          "data": {
            "text/plain": [
              "True"
            ]
          },
          "metadata": {},
          "execution_count": 13
        }
      ]
    },
    {
      "cell_type": "code",
      "source": [
        "nltk.download('wordnet')"
      ],
      "metadata": {
        "colab": {
          "base_uri": "https://localhost:8080/"
        },
        "id": "nBxIJb3jQO_r",
        "outputId": "e5465608-a91b-4c16-a704-5ce5c106002a"
      },
      "execution_count": null,
      "outputs": [
        {
          "output_type": "stream",
          "name": "stderr",
          "text": [
            "[nltk_data] Downloading package wordnet to /root/nltk_data...\n",
            "[nltk_data]   Package wordnet is already up-to-date!\n"
          ]
        },
        {
          "output_type": "execute_result",
          "data": {
            "text/plain": [
              "True"
            ]
          },
          "metadata": {},
          "execution_count": 14
        }
      ]
    },
    {
      "cell_type": "code",
      "source": [
        "data['stacktrace'] = text_preprocess(data['stacktrace'])"
      ],
      "metadata": {
        "id": "XuyveZ7Ayd48"
      },
      "execution_count": null,
      "outputs": []
    },
    {
      "cell_type": "code",
      "source": [
        "class_to_predict = 'original_label'"
      ],
      "metadata": {
        "id": "En_aRPRJvUdC"
      },
      "execution_count": null,
      "outputs": []
    },
    {
      "cell_type": "code",
      "source": [
        "data.head()"
      ],
      "metadata": {
        "colab": {
          "base_uri": "https://localhost:8080/",
          "height": 206
        },
        "id": "Vj7BosGQzNmM",
        "outputId": "348db328-7e5c-4190-dac0-5f3b19f41540"
      },
      "execution_count": null,
      "outputs": [
        {
          "output_type": "execute_result",
          "data": {
            "text/plain": [
              "   ID                                         stacktrace  \\\n",
              "0   0  exception java lang arrayindexoutofboundsexcep...   \n",
              "1   1  exception java io unsupportedencodingexception...   \n",
              "2   2  exception java io ioexception message opt loca...   \n",
              "3   3  exception java lang nullpointerexception messa...   \n",
              "4   4  exception javax swing text stateinvarianterror...   \n",
              "\n",
              "                    original_label  \n",
              "0   arrayindexoutofboundsexception  \n",
              "1     unsupportedencodingexception  \n",
              "2                      ioexception  \n",
              "3             nullpointerexception  \n",
              "4              stateinvarianterror  "
            ],
            "text/html": [
              "\n",
              "  <div id=\"df-c00b7d0f-c0fa-43b0-aa28-221c6e4f808c\">\n",
              "    <div class=\"colab-df-container\">\n",
              "      <div>\n",
              "<style scoped>\n",
              "    .dataframe tbody tr th:only-of-type {\n",
              "        vertical-align: middle;\n",
              "    }\n",
              "\n",
              "    .dataframe tbody tr th {\n",
              "        vertical-align: top;\n",
              "    }\n",
              "\n",
              "    .dataframe thead th {\n",
              "        text-align: right;\n",
              "    }\n",
              "</style>\n",
              "<table border=\"1\" class=\"dataframe\">\n",
              "  <thead>\n",
              "    <tr style=\"text-align: right;\">\n",
              "      <th></th>\n",
              "      <th>ID</th>\n",
              "      <th>stacktrace</th>\n",
              "      <th>original_label</th>\n",
              "    </tr>\n",
              "  </thead>\n",
              "  <tbody>\n",
              "    <tr>\n",
              "      <th>0</th>\n",
              "      <td>0</td>\n",
              "      <td>exception java lang arrayindexoutofboundsexcep...</td>\n",
              "      <td>arrayindexoutofboundsexception</td>\n",
              "    </tr>\n",
              "    <tr>\n",
              "      <th>1</th>\n",
              "      <td>1</td>\n",
              "      <td>exception java io unsupportedencodingexception...</td>\n",
              "      <td>unsupportedencodingexception</td>\n",
              "    </tr>\n",
              "    <tr>\n",
              "      <th>2</th>\n",
              "      <td>2</td>\n",
              "      <td>exception java io ioexception message opt loca...</td>\n",
              "      <td>ioexception</td>\n",
              "    </tr>\n",
              "    <tr>\n",
              "      <th>3</th>\n",
              "      <td>3</td>\n",
              "      <td>exception java lang nullpointerexception messa...</td>\n",
              "      <td>nullpointerexception</td>\n",
              "    </tr>\n",
              "    <tr>\n",
              "      <th>4</th>\n",
              "      <td>4</td>\n",
              "      <td>exception javax swing text stateinvarianterror...</td>\n",
              "      <td>stateinvarianterror</td>\n",
              "    </tr>\n",
              "  </tbody>\n",
              "</table>\n",
              "</div>\n",
              "      <button class=\"colab-df-convert\" onclick=\"convertToInteractive('df-c00b7d0f-c0fa-43b0-aa28-221c6e4f808c')\"\n",
              "              title=\"Convert this dataframe to an interactive table.\"\n",
              "              style=\"display:none;\">\n",
              "        \n",
              "  <svg xmlns=\"http://www.w3.org/2000/svg\" height=\"24px\"viewBox=\"0 0 24 24\"\n",
              "       width=\"24px\">\n",
              "    <path d=\"M0 0h24v24H0V0z\" fill=\"none\"/>\n",
              "    <path d=\"M18.56 5.44l.94 2.06.94-2.06 2.06-.94-2.06-.94-.94-2.06-.94 2.06-2.06.94zm-11 1L8.5 8.5l.94-2.06 2.06-.94-2.06-.94L8.5 2.5l-.94 2.06-2.06.94zm10 10l.94 2.06.94-2.06 2.06-.94-2.06-.94-.94-2.06-.94 2.06-2.06.94z\"/><path d=\"M17.41 7.96l-1.37-1.37c-.4-.4-.92-.59-1.43-.59-.52 0-1.04.2-1.43.59L10.3 9.45l-7.72 7.72c-.78.78-.78 2.05 0 2.83L4 21.41c.39.39.9.59 1.41.59.51 0 1.02-.2 1.41-.59l7.78-7.78 2.81-2.81c.8-.78.8-2.07 0-2.86zM5.41 20L4 18.59l7.72-7.72 1.47 1.35L5.41 20z\"/>\n",
              "  </svg>\n",
              "      </button>\n",
              "      \n",
              "  <style>\n",
              "    .colab-df-container {\n",
              "      display:flex;\n",
              "      flex-wrap:wrap;\n",
              "      gap: 12px;\n",
              "    }\n",
              "\n",
              "    .colab-df-convert {\n",
              "      background-color: #E8F0FE;\n",
              "      border: none;\n",
              "      border-radius: 50%;\n",
              "      cursor: pointer;\n",
              "      display: none;\n",
              "      fill: #1967D2;\n",
              "      height: 32px;\n",
              "      padding: 0 0 0 0;\n",
              "      width: 32px;\n",
              "    }\n",
              "\n",
              "    .colab-df-convert:hover {\n",
              "      background-color: #E2EBFA;\n",
              "      box-shadow: 0px 1px 2px rgba(60, 64, 67, 0.3), 0px 1px 3px 1px rgba(60, 64, 67, 0.15);\n",
              "      fill: #174EA6;\n",
              "    }\n",
              "\n",
              "    [theme=dark] .colab-df-convert {\n",
              "      background-color: #3B4455;\n",
              "      fill: #D2E3FC;\n",
              "    }\n",
              "\n",
              "    [theme=dark] .colab-df-convert:hover {\n",
              "      background-color: #434B5C;\n",
              "      box-shadow: 0px 1px 3px 1px rgba(0, 0, 0, 0.15);\n",
              "      filter: drop-shadow(0px 1px 2px rgba(0, 0, 0, 0.3));\n",
              "      fill: #FFFFFF;\n",
              "    }\n",
              "  </style>\n",
              "\n",
              "      <script>\n",
              "        const buttonEl =\n",
              "          document.querySelector('#df-c00b7d0f-c0fa-43b0-aa28-221c6e4f808c button.colab-df-convert');\n",
              "        buttonEl.style.display =\n",
              "          google.colab.kernel.accessAllowed ? 'block' : 'none';\n",
              "\n",
              "        async function convertToInteractive(key) {\n",
              "          const element = document.querySelector('#df-c00b7d0f-c0fa-43b0-aa28-221c6e4f808c');\n",
              "          const dataTable =\n",
              "            await google.colab.kernel.invokeFunction('convertToInteractive',\n",
              "                                                     [key], {});\n",
              "          if (!dataTable) return;\n",
              "\n",
              "          const docLinkHtml = 'Like what you see? Visit the ' +\n",
              "            '<a target=\"_blank\" href=https://colab.research.google.com/notebooks/data_table.ipynb>data table notebook</a>'\n",
              "            + ' to learn more about interactive tables.';\n",
              "          element.innerHTML = '';\n",
              "          dataTable['output_type'] = 'display_data';\n",
              "          await google.colab.output.renderOutput(dataTable, element);\n",
              "          const docLink = document.createElement('div');\n",
              "          docLink.innerHTML = docLinkHtml;\n",
              "          element.appendChild(docLink);\n",
              "        }\n",
              "      </script>\n",
              "    </div>\n",
              "  </div>\n",
              "  "
            ]
          },
          "metadata": {},
          "execution_count": 17
        }
      ]
    },
    {
      "cell_type": "code",
      "source": [
        "  num_records = len(data)\n",
        "  data_train = data[:int(0.85 * num_records)]\n",
        "  data_test = data[int(0.85 * num_records):]"
      ],
      "metadata": {
        "id": "6bMIzkMEvsia"
      },
      "execution_count": null,
      "outputs": []
    },
    {
      "cell_type": "code",
      "source": [
        "  train_data = [x[0] for x in data_train[['stacktrace']].to_records(index=False)]\n",
        "  train_labels = [x[0] for x in data_train[[class_to_predict]].to_records(index=False)]\n",
        "  unique_train_label = list(set(train_labels))\n"
      ],
      "metadata": {
        "id": "Q3evjcmzvvkw"
      },
      "execution_count": null,
      "outputs": []
    },
    {
      "cell_type": "code",
      "source": [
        "lable_id = {}\n",
        "for i,label_ in enumerate(unique_train_label):\n",
        "  lable_id[i] = label_\n"
      ],
      "metadata": {
        "id": "DhjHkrv4AG1a"
      },
      "execution_count": null,
      "outputs": []
    },
    {
      "cell_type": "code",
      "source": [
        "lable_id[-1]"
      ],
      "metadata": {
        "colab": {
          "base_uri": "https://localhost:8080/",
          "height": 36
        },
        "id": "Tx5fEIgCBh88",
        "outputId": "16a3fb33-414c-42d3-aa99-fdde4f4ea95c"
      },
      "execution_count": null,
      "outputs": [
        {
          "output_type": "execute_result",
          "data": {
            "text/plain": [
              "'error'"
            ],
            "application/vnd.google.colaboratory.intrinsic+json": {
              "type": "string"
            }
          },
          "metadata": {},
          "execution_count": 68
        }
      ]
    },
    {
      "cell_type": "code",
      "source": [
        "len(unique_train_label)"
      ],
      "metadata": {
        "colab": {
          "base_uri": "https://localhost:8080/"
        },
        "id": "_xl2B_JJ75Jg",
        "outputId": "9ef21c54-c0c6-4464-e8d5-27763829e8bf"
      },
      "execution_count": null,
      "outputs": [
        {
          "output_type": "execute_result",
          "data": {
            "text/plain": [
              "53"
            ]
          },
          "metadata": {},
          "execution_count": 23
        }
      ]
    },
    {
      "cell_type": "code",
      "source": [
        "  test_data = [x[0] for x in data_test[['stacktrace']].to_records(index=False)]\n",
        "  test_labels = [x[0] for x in data_test[[class_to_predict]].to_records(index=False)]"
      ],
      "metadata": {
        "id": "PRdyAcNjyAuS"
      },
      "execution_count": null,
      "outputs": []
    },
    {
      "cell_type": "code",
      "source": [
        "  # Tokenize data\n",
        "  train_data = [text.split() for text in train_data] # TODO(Vladimir) - try nltk tokenize here\n",
        "  test_data = [text.split() for text in test_data]\n",
        "  all_data = train_data + test_data"
      ],
      "metadata": {
        "id": "EqKpXKZ9yNZz"
      },
      "execution_count": null,
      "outputs": []
    },
    {
      "cell_type": "code",
      "source": [
        "  print('Data examples')\n",
        "  print(all_data[0])"
      ],
      "metadata": {
        "colab": {
          "base_uri": "https://localhost:8080/"
        },
        "id": "5IPJYikdySVm",
        "outputId": "a72309b1-b108-4a57-fe8b-646300f4b7bf"
      },
      "execution_count": null,
      "outputs": [
        {
          "output_type": "stream",
          "name": "stdout",
          "text": [
            "Data examples\n",
            "['exception', 'java', 'lang', 'arrayindexoutofboundsexception', 'message', 'frame', 'function', 'java', 'util', 'vector', 'elementat', 'file', 'vector', 'java', 'fileline', 'depth', 'function', 'com', 'sun', 'java', 'swing', 'jtabbedpane', 'seticonat', 'file', 'jtabbedpane', 'java', 'fileline', 'depth', 'function', 'com', 'netbeans', 'developer', 'base', 'window', 'multiobjectframe', 'updateicons', 'file', 'multiobjectframe', 'java', 'fileline', 'depth', 'function', 'com', 'netbeans', 'developer', 'base', 'window', 'multiobjectframe', 'access', 'file', 'multiobjectframe', 'java', 'fileline', 'depth', 'function', 'com', 'netbeans', 'developer', 'base', 'window', 'multiobjectframe', 'propertychange', 'file', 'multiobjectframe', 'java', 'fileline', 'depth', 'function', 'com', 'netbeans', 'developer', 'util', 'node', 'node', 'fireownpropertychange', 'file', 'node', 'java', 'fileline', 'depth', 'function', 'com', 'netbeans', 'developer', 'util', 'node', 'node', 'fireiconchange', 'file', 'node', 'java', 'fileline', 'depth', 'function', 'com', 'netbeans', 'developerx', 'loader', 'java', 'javanode', 'resolveicons', 'file', 'javanode', 'java', 'fileline', 'depth', 'function', 'com', 'netbeans', 'developerx', 'loader', 'java', 'javanode', 'run', 'file', 'javanode', 'java', 'fileline', 'depth', 'function', 'com', 'netbeans', 'developer', 'util', 'requestprocessor', 'execute', 'file', 'requestprocessor', 'java', 'fileline', 'depth', 'function', 'sunw', 'hotjava', 'misc', 'requestprocessor', 'run', 'file', 'requestprocessor', 'java', 'fileline', 'depth', 'function', 'java', 'lang', 'thread', 'run', 'file', 'thread', 'java', 'fileline', 'depth', 'nested']\n"
          ]
        }
      ]
    },
    {
      "cell_type": "code",
      "source": [
        "  wordvec_model = Word2Vec(all_data, min_count=min_word_frequency_word2vec,\n",
        "                           vector_size=embed_size_word2vec, window=context_window_word2vec)\n",
        "  vocabulary = wordvec_model.wv\n",
        "  vocab_size = len(vocabulary)"
      ],
      "metadata": {
        "id": "MwJ7OfatyWZw"
      },
      "execution_count": null,
      "outputs": []
    },
    {
      "cell_type": "code",
      "source": [
        "len(vocabulary)"
      ],
      "metadata": {
        "colab": {
          "base_uri": "https://localhost:8080/"
        },
        "id": "3-Ym9ADP516H",
        "outputId": "6872fc2e-6263-4356-8280-65decb51a17b"
      },
      "execution_count": null,
      "outputs": [
        {
          "output_type": "execute_result",
          "data": {
            "text/plain": [
              "1126"
            ]
          },
          "metadata": {},
          "execution_count": 32
        }
      ]
    },
    {
      "cell_type": "code",
      "source": [
        "  X_train = np.empty(shape=[len(train_data), max_sentence_len, embed_size_word2vec],\n",
        "                     dtype='float32')\n",
        "  Y_train = np.empty(shape=[len(train_labels), 1], dtype='int32')"
      ],
      "metadata": {
        "id": "rgJAUZOL0R-v"
      },
      "execution_count": null,
      "outputs": []
    },
    {
      "cell_type": "code",
      "source": [
        "  for j, curr_row in enumerate(train_data):\n",
        "    if j % 100 == 0:\n",
        "      print('Building X_train j = ' + str(j))\n",
        "    sequence_cnt = 0\n",
        "    for item in curr_row:\n",
        "      if item in vocabulary:\n",
        "        X_train[j, sequence_cnt, :] = wordvec_model.wv[item]\n",
        "        sequence_cnt = sequence_cnt + 1\n",
        "        if sequence_cnt == max_sentence_len - 1:\n",
        "          break\n",
        "    for k in range(sequence_cnt, max_sentence_len):\n",
        "      X_train[j, k, :] = np.zeros((1, embed_size_word2vec))\n",
        "    Y_train[j, 0] = unique_train_label.index(train_labels[j])"
      ],
      "metadata": {
        "colab": {
          "base_uri": "https://localhost:8080/"
        },
        "id": "_wIwZ5Bi1ErN",
        "outputId": "ee7e97c6-51af-44c0-d35a-6b5f4c0a47cf"
      },
      "execution_count": null,
      "outputs": [
        {
          "output_type": "stream",
          "name": "stdout",
          "text": [
            "Building X_train j = 0\n",
            "Building X_train j = 100\n",
            "Building X_train j = 200\n",
            "Building X_train j = 300\n",
            "Building X_train j = 400\n"
          ]
        }
      ]
    },
    {
      "cell_type": "code",
      "source": [
        "  X_test = np.empty(shape=[len(test_data), max_sentence_len, embed_size_word2vec],\n",
        "                    dtype='float32')\n",
        "  Y_test = np.empty(shape=[len(test_labels), 1], dtype='int32')"
      ],
      "metadata": {
        "id": "8YZ8bJVt1NFw"
      },
      "execution_count": null,
      "outputs": []
    },
    {
      "cell_type": "code",
      "source": [
        "  for j, curr_row in enumerate(test_data):\n",
        "    if j % 100 == 0:\n",
        "      print('Building X_test j = ' + str(j))\n",
        "    sequence_cnt = 0\n",
        "    for item in curr_row:\n",
        "      if item in vocabulary:\n",
        "        X_test[j, sequence_cnt, :] = wordvec_model.wv[item]\n",
        "        sequence_cnt = sequence_cnt + 1\n",
        "        if sequence_cnt == max_sentence_len - 1:\n",
        "          break\n",
        "    for k in range(sequence_cnt, max_sentence_len):\n",
        "      X_test[j, k, :] = np.zeros((1, embed_size_word2vec))\n",
        "    try:\n",
        "      Y_test[j, 0] = unique_train_label.index(test_labels[j])\n",
        "    except:\n",
        "      Y_test[j,0] = -1\n",
        "\n"
      ],
      "metadata": {
        "colab": {
          "base_uri": "https://localhost:8080/"
        },
        "id": "fgdqwrMn2cvs",
        "outputId": "d6bcf504-4cdc-4cf5-94cb-e50ed534ad71"
      },
      "execution_count": null,
      "outputs": [
        {
          "output_type": "stream",
          "name": "stdout",
          "text": [
            "Building X_test j = 0\n"
          ]
        }
      ]
    },
    {
      "cell_type": "code",
      "source": [
        " y_train = np_utils.to_categorical(Y_train, len(unique_train_label))"
      ],
      "metadata": {
        "id": "abcB7FnV2sXH"
      },
      "execution_count": null,
      "outputs": []
    },
    {
      "cell_type": "code",
      "source": [
        "y_train[0].shape"
      ],
      "metadata": {
        "colab": {
          "base_uri": "https://localhost:8080/"
        },
        "id": "mRw6MRlh3qm1",
        "outputId": "3b81fb94-0286-414d-fa22-c6e9a00d666c"
      },
      "execution_count": null,
      "outputs": [
        {
          "output_type": "execute_result",
          "data": {
            "text/plain": [
              "(53,)"
            ]
          },
          "metadata": {},
          "execution_count": 46
        }
      ]
    },
    {
      "cell_type": "code",
      "source": [
        "  sequence = Input(shape=(max_sentence_len, embed_size_word2vec), dtype='float32')\n",
        "  lstm = Bidirectional(LSTM(1024))(sequence)\n",
        "  after_dp = Dropout(0.5)(lstm)\n",
        "  output = Dense(len(unique_train_label), activation='softmax')(after_dp)\n",
        "  model = Model(inputs=sequence, outputs=output)\n",
        "  rms = RMSprop(lr=0.001, rho=0.9, epsilon=1e-08)\n",
        "  model.compile(loss='categorical_crossentropy', optimizer=rms, metrics=['accuracy'])\n"
      ],
      "metadata": {
        "colab": {
          "base_uri": "https://localhost:8080/"
        },
        "id": "ZXrQWTRr6I4K",
        "outputId": "bdaaafbb-7a96-4063-b6eb-e4acb41afedb"
      },
      "execution_count": null,
      "outputs": [
        {
          "output_type": "stream",
          "name": "stderr",
          "text": [
            "/usr/local/lib/python3.10/dist-packages/keras/optimizers/legacy/rmsprop.py:143: UserWarning: The `lr` argument is deprecated, use `learning_rate` instead.\n",
            "  super().__init__(name, **kwargs)\n"
          ]
        }
      ]
    },
    {
      "cell_type": "code",
      "source": [
        "tf.config.run_functions_eagerly(True)"
      ],
      "metadata": {
        "id": "fS6qUElCchAh"
      },
      "execution_count": null,
      "outputs": []
    },
    {
      "cell_type": "code",
      "source": [
        "hist = model.fit(X_train, y_train,\n",
        "                   batch_size=batch_size,\n",
        "                   epochs=10)"
      ],
      "metadata": {
        "colab": {
          "base_uri": "https://localhost:8080/"
        },
        "id": "aKbc91v8-I7d",
        "outputId": "d860d15d-990b-4774-9035-4e2cce1d8196"
      },
      "execution_count": null,
      "outputs": [
        {
          "output_type": "stream",
          "name": "stdout",
          "text": [
            "Epoch 1/10\n"
          ]
        },
        {
          "output_type": "stream",
          "name": "stderr",
          "text": [
            "/usr/local/lib/python3.10/dist-packages/tensorflow/python/data/ops/structured_function.py:254: UserWarning: Even though the `tf.config.experimental_run_functions_eagerly` option is set, this option does not apply to tf.data functions. To force eager execution of tf.data functions, please use `tf.data.experimental.enable_debug_mode()`.\n",
            "  warnings.warn(\n"
          ]
        },
        {
          "output_type": "stream",
          "name": "stdout",
          "text": [
            "14/14 [==============================] - 73s 5s/step - loss: 1.5066 - accuracy: 0.5812\n",
            "Epoch 2/10\n",
            "14/14 [==============================] - 71s 5s/step - loss: 1.1371 - accuracy: 0.6800\n",
            "Epoch 3/10\n",
            "14/14 [==============================] - 71s 5s/step - loss: 1.2011 - accuracy: 0.6588\n",
            "Epoch 4/10\n",
            "14/14 [==============================] - 71s 5s/step - loss: 0.9267 - accuracy: 0.7106\n",
            "Epoch 5/10\n",
            "14/14 [==============================] - 71s 5s/step - loss: 0.7533 - accuracy: 0.7671\n",
            "Epoch 6/10\n",
            "14/14 [==============================] - 70s 5s/step - loss: 0.7041 - accuracy: 0.7882\n",
            "Epoch 7/10\n",
            "14/14 [==============================] - 70s 5s/step - loss: 0.6084 - accuracy: 0.8118\n",
            "Epoch 8/10\n",
            "14/14 [==============================] - 70s 5s/step - loss: 0.4273 - accuracy: 0.8776\n",
            "Epoch 9/10\n",
            "14/14 [==============================] - 70s 5s/step - loss: 0.4574 - accuracy: 0.8659\n",
            "Epoch 10/10\n",
            "14/14 [==============================] - 71s 5s/step - loss: 0.4299 - accuracy: 0.8706\n"
          ]
        }
      ]
    },
    {
      "cell_type": "code",
      "source": [
        "  train_result = hist.history\n",
        "  print(train_result)"
      ],
      "metadata": {
        "colab": {
          "base_uri": "https://localhost:8080/"
        },
        "id": "PpbNgnYm6pOM",
        "outputId": "0bb4aeec-a54d-4997-b0a3-bf5569930681"
      },
      "execution_count": null,
      "outputs": [
        {
          "output_type": "stream",
          "name": "stdout",
          "text": [
            "{'loss': [3.762427568435669, 2.4133248329162598, 2.2947840690612793, 1.9484755992889404, 1.8235138654708862, 1.5660163164138794, 1.3975955247879028, 1.1117314100265503, 1.0683798789978027, 0.8862244486808777], 'accuracy': [0.26588234305381775, 0.41647058725357056, 0.4000000059604645, 0.477647066116333, 0.5247058868408203, 0.5905882120132446, 0.6188235282897949, 0.6847058534622192, 0.6705882549285889, 0.7411764860153198]}\n"
          ]
        }
      ]
    },
    {
      "cell_type": "code",
      "source": [
        "  train_prediction = model.predict(X_train)"
      ],
      "metadata": {
        "colab": {
          "base_uri": "https://localhost:8080/"
        },
        "id": "ThsUnAWQ8rP3",
        "outputId": "4f035f64-ed21-46a4-e794-0c012d1f4703"
      },
      "execution_count": null,
      "outputs": [
        {
          "output_type": "stream",
          "name": "stdout",
          "text": [
            "14/14 [==============================] - 16s 1s/step\n"
          ]
        }
      ]
    },
    {
      "cell_type": "code",
      "source": [
        "len(wordvec_model.wv[\"io\"])"
      ],
      "metadata": {
        "colab": {
          "base_uri": "https://localhost:8080/"
        },
        "id": "COY-3TbtK25l",
        "outputId": "c6a4fb58-7bac-44ff-e4d5-180715c181e1"
      },
      "execution_count": null,
      "outputs": [
        {
          "output_type": "execute_result",
          "data": {
            "text/plain": [
              "100"
            ]
          },
          "metadata": {},
          "execution_count": 163
        }
      ]
    },
    {
      "cell_type": "code",
      "source": [
        "  total_train_correct = 0\n",
        "\n",
        "  pred = []\n",
        "\n",
        "\n",
        "  for j, ll in enumerate(train_prediction):\n",
        "    label_predicted = lable_id[np.argmax(ll)]\n",
        "    pred.append(label_predicted)\n",
        "    if np.argmax(ll) == Y_train[j]:\n",
        "      total_train_correct += 1\n",
        "\n",
        "\n",
        "  print('Train accuracy:', total_train_correct * 1.0 / len(train_prediction))\n"
      ],
      "metadata": {
        "colab": {
          "base_uri": "https://localhost:8080/"
        },
        "id": "3WvlPROz852Z",
        "outputId": "7ff27a32-4d1a-4b5e-f051-24e1416be74d"
      },
      "execution_count": null,
      "outputs": [
        {
          "output_type": "stream",
          "name": "stdout",
          "text": [
            "Train accuracy: 0.9552941176470588\n"
          ]
        }
      ]
    },
    {
      "cell_type": "code",
      "source": [
        "  test_prediction = model.predict(X_test)\n"
      ],
      "metadata": {
        "colab": {
          "base_uri": "https://localhost:8080/"
        },
        "id": "ITcoLMyl8-4Q",
        "outputId": "f30f543a-aaa0-40e4-d556-b478441bf437"
      },
      "execution_count": null,
      "outputs": [
        {
          "output_type": "stream",
          "name": "stdout",
          "text": [
            "3/3 [==============================] - 3s 869ms/step\n"
          ]
        }
      ]
    },
    {
      "cell_type": "code",
      "source": [
        "  total_test_correct = 0\n",
        "  labels = []\n",
        "  predicted = []\n",
        "  for j, ll in enumerate(test_prediction):\n",
        "    predicted.append(np.argmax(ll))\n",
        "    labels.append(Y_test[j])\n",
        "    if np.argmax(ll) == Y_test[j]:\n",
        "      total_test_correct += 1\n",
        "\n",
        "  print('Test accuracy:', total_test_correct * 1.0 / len(test_prediction))\n"
      ],
      "metadata": {
        "colab": {
          "base_uri": "https://localhost:8080/"
        },
        "id": "sDm_p-GO9Fa6",
        "outputId": "517301ec-5f2f-474d-e2cb-5b972e909c73"
      },
      "execution_count": null,
      "outputs": [
        {
          "output_type": "stream",
          "name": "stdout",
          "text": [
            "Test accuracy: 0.6266666666666667\n"
          ]
        }
      ]
    },
    {
      "cell_type": "code",
      "source": [],
      "metadata": {
        "id": "RY5dhZ_G9JzT"
      },
      "execution_count": null,
      "outputs": []
    }
  ]
}